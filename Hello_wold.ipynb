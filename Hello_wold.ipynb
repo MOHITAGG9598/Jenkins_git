{
 "cells": [
  {
   "cell_type": "code",
   "execution_count": 7,
   "id": "a61ac29d",
   "metadata": {},
   "outputs": [
    {
     "name": "stdout",
     "output_type": "stream",
     "text": [
      "Enter First Word:Mohit\n",
      "Enter second word:Agarwal\n",
      "The result is: Mohit Agarwal\n"
     ]
    }
   ],
   "source": [
    "word1=input(\"Enter First Word:\")\n",
    "word2=input(\"Enter second word:\")\n",
    "Result=(word1)+' '+(word2)\n",
    "print(\"The result is:\",Result)"
   ]
  },
  {
   "cell_type": "code",
   "execution_count": null,
   "id": "dca73fc5",
   "metadata": {},
   "outputs": [],
   "source": []
  }
 ],
 "metadata": {
  "kernelspec": {
   "display_name": "Python 3 (ipykernel)",
   "language": "python",
   "name": "python3"
  },
  "language_info": {
   "codemirror_mode": {
    "name": "ipython",
    "version": 3
   },
   "file_extension": ".py",
   "mimetype": "text/x-python",
   "name": "python",
   "nbconvert_exporter": "python",
   "pygments_lexer": "ipython3",
   "version": "3.9.13"
  }
 },
 "nbformat": 4,
 "nbformat_minor": 5
}
